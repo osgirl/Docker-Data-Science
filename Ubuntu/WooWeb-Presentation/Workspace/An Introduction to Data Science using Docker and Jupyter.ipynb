{
 "cells": [
  {
   "cell_type": "code",
   "execution_count": null,
   "metadata": {
    "collapsed": true,
    "slideshow": {
     "slide_type": "skip"
    }
   },
   "outputs": [],
   "source": [
    "from traitlets.config.manager import BaseJSONConfigManager\n",
    "from IPython.core.display import display, HTML\n",
    "from numpy import *\n",
    "from numpy.random import *\n",
    "from matplotlib.pyplot import figure, show, draw, tight_layout\n",
    "from numpy import log2, ceil\n",
    "import sympy\n",
    "%matplotlib inline\n",
    "\n",
    "path = '/home/datasci/.jupyter/nbconfig'\n",
    "cm = BaseJSONConfigManager(config_dir=path)\n",
    "\n",
    "cm.update('livereveal',\n",
    "         {\n",
    "             'theme': 'safri',\n",
    "             'start_slideshow_at': 'selected',\n",
    "             'width': 1280,\n",
    "             'height': 960,\n",
    "             'scroll': False,\n",
    "             'progress': True,\n",
    "             'controls': True,\n",
    "             'slideNumber': True\n",
    "         })"
   ]
  },
  {
   "cell_type": "markdown",
   "metadata": {
    "slideshow": {
     "slide_type": "slide"
    }
   },
   "source": [
    "<h1 align=\"center\"><font size=\"10\">An Introduction to Data Science <br>using Docker and Jupyter</font></h1>\n",
    "<br>\n",
    "<br>\n",
    "<br>\n",
    "<br>\n",
    "<div align=\"right\">\n",
    "    <font size=\"5\">\n",
    "        <table align=\"right\">\n",
    "            <tr>\n",
    "                <td style=\"border: 1px solid white;\">Author Josh Cole</td>\n",
    "            </tr>\n",
    "            <tr>\n",
    "                <td style=\"border: 1px solid white;\">Previous Company: General Dynamics</td>\n",
    "            </tr>\n",
    "            <tr>\n",
    "                <td style=\"border: 1px solid white;\">Previous Position: Systems Engineer</td>\n",
    "            </tr>\n",
    "            <tr>\n",
    "                <td style=\"border: 1px solid white;\">Unviersity: The University of Bristol</td>\n",
    "            </tr>\n",
    "            <tr>\n",
    "                <td style=\"border: 1px solid white;\">Studied: MEng in Electronics and Communications</td>\n",
    "            </tr>\n",
    "            <tr>\n",
    "                <td style=\"border: 1px solid white;\">Current Role: Sofware Engineer/Data Science/Big Data</td>\n",
    "            </tr>\n",
    "        </table>\n",
    "    </font>\n",
    "</div>"
   ]
  },
  {
   "cell_type": "markdown",
   "metadata": {
    "slideshow": {
     "slide_type": "slide"
    }
   },
   "source": [
    "<h1 align=\"left\"><font size=\"8\">Overview</font></h1>\n",
    "\n",
    "<ol style=\"font-size: 30px;\">\n",
    "        <ul style=\"font-size: 25px;\">\n",
    "          <li>Why Docker?</li>\n",
    "          <li>Why Jupyter?</li>\n",
    "          <li>Can anyone Get involved with Data Science?</li>\n",
    "          <li>What Skills do you need?</li>\n",
    "          <li>Big data the four Vs</li>\n",
    "          <li>Learning Resources</li>\n",
    "          <li>A brief play with Docker and Jupyter</li>\n",
    "        </ul>\n",
    "</ol>"
   ]
  },
  {
   "cell_type": "markdown",
   "metadata": {
    "slideshow": {
     "slide_type": "slide"
    }
   },
   "source": [
    "<h1 align=\"left\"><font size=\"8\">Why Docker?</font></h1>\n",
    "\n",
    "<ul style=\"font-size: 30px;\">\n",
    "    <li>Standard Dev Environment</li>\n",
    "        <ul style=\"font-size: 25px;\">\n",
    "          <li>Configuring a data science environment can be a pain</li>\n",
    "          <li>Dealing with inconsistent package versions</li>\n",
    "          <li>Having to dive through obscure error messages</li>\n",
    "          <li>Wait hours for packages to compile can be frustrating</li>\n",
    "        </ul>\n",
    "    <li>Moving to Docker</li>\n",
    "        <ul style=\"font-size: 25px;\">\n",
    "          <li>The above makes it hard to get started with data science in the first place, and is a completely arbitrary barrier to entry</li>\n",
    "          <li>Dealing with inconsistent package versions</li>\n",
    "          <li>With Docker, we can download an image file that contains a set of packages and data science tools</li>\n",
    "        </ul>\n",
    "</ul>"
   ]
  },
  {
   "cell_type": "markdown",
   "metadata": {
    "slideshow": {
     "slide_type": "slide"
    }
   },
   "source": [
    "<h1 align=\"left\"><font size=\"8\">Why Jupyter?</font></h1>\n",
    "\n",
    "<ol style=\"font-size: 30px;\">\n",
    "        <ul style=\"font-size: 25px;\">\n",
    "          <li>It excels in literate programming, a software style pioneered by Stanford computer scientist, Donald Knuth</li>\n",
    "          <li>Allows users to formulate, and describe their thoughts with prose, supplemented by mathematical equations as they prepare to write code blocks</li>\n",
    "          <li>Commonly used in:</li>\n",
    "          <ul style=\"font-size: 25px;\">\n",
    "              <li>Demonstrations</li>\n",
    "              <li>Research</li>\n",
    "              <li>Teaching</li>\n",
    "              <li>Collaborative exercise</li>\n",
    "        </ul>\n",
    "          <li>Supports:</li>\n",
    "          <ul style=\"font-size: 25px;\">\n",
    "              <li>Latex equations using MathJax</li>\n",
    "              <li>MarkDown Cells</li>\n",
    "              <li>Interactive presentations</li>\n",
    "        </ul>\n",
    "        </ul>\n",
    "</ol>\n",
    "\n"
   ]
  },
  {
   "cell_type": "markdown",
   "metadata": {
    "slideshow": {
     "slide_type": "slide"
    }
   },
   "source": [
    "<h1 align=\"left\"><font size=\"8\">Can anyone Get involved with Data Science?</font></h1>\n",
    "\n",
    "<ul style=\"font-size: 30px;\">\n",
    "    <li>Do you need PhD in Statistics/Machine Learning?</li>\n",
    "        <ul style=\"font-size: 25px;\">\n",
    "          <li>Many data scientists acquired their quantitative and statistical modeling skills in college, but pursued degrees in business, economics and engineering</li>\n",
    "          <li>The actually know about business problems</li>\n",
    "        </ul>\n",
    "    <li>Do Data Scientist get the hands Dirty?</li>\n",
    "        <ul style=\"font-size: 25px;\">\n",
    "          <li>Data Scientists get their fingernails dirty dumping piles of data in analytical sandboxes, cleansing, and sifting through it for useful patterns that may or may not exist. Then, they do it all over again.</li>\n",
    "        </ul>\n",
    "</ul>"
   ]
  },
  {
   "cell_type": "markdown",
   "metadata": {
    "slideshow": {
     "slide_type": "slide"
    }
   },
   "source": [
    "<h1 align=\"left\"><font size=\"8\">What skills do you need?</font></h1>\n",
    "<center>Data Science Profile from Doing Data Science by Cathy O'Neil and Rachel Schutt</center>\n",
    "<center><img align=\"center\" src=\"Images/data-science-profile.png\" height=\"400\" width=\"400\"></center>\n",
    "<center>There is no \"I\" n \"Team\": Don't go it alone</center>\n",
    "<center><img align=\"center\" src=\"Images/data-science-team-profile.png\" height=\"400\" width=\"400\"></center>"
   ]
  },
  {
   "cell_type": "markdown",
   "metadata": {
    "slideshow": {
     "slide_type": "slide"
    }
   },
   "source": [
    "<h1 align=\"left\"><font size=\"8\">Big Data the Four Vs</font></h1>\n",
    "\n",
    "<ul style=\"font-size: 30px;\">\n",
    "    <li>Volume: Data at rest i.e. the amount of data</li>\n",
    "    <li>Variety: Data in many forms:</li>\n",
    "        <ul style=\"font-size: 25px;\">\n",
    "          <li>Different types of data (e.g. structured, semi-structured and unstructured data</li>\n",
    "          <li>Different data source (e.g. internal, external, public)</li>\n",
    "        </ul>\n",
    "    <li>Velocity: data in motion i.e the speed at which data is generated and processed</li>\n",
    "    <li>Veracity: data in doubt i.e. the varying levels of noise and processing errors</li>\n",
    "\n",
    "</ul>"
   ]
  },
  {
   "cell_type": "markdown",
   "metadata": {
    "slideshow": {
     "slide_type": "slide"
    }
   },
   "source": [
    "<h1 align=\"left\"><font size=\"8\">Learning Resources</font></h1>\n",
    "\n",
    "<ul style=\"font-size: 30px;\">\n",
    "    <li>Coursera: high quality courses on Data Science/Machine Learning/Statistics: https://www.coursera.org/</li>\n",
    "    <li>Udacity: similar to Coursera: https://www.udacity.com/</li>\n",
    "    <li>Kaggle: competitions, datasets tutorials: https://www.kaggle.com/</li>\n",
    "    <li>KDnuggets: datasets, blogs and tutorials: https://www.kaggle.com/</li>\n",
    "    <li>Just Google it!</li>\n",
    "    \n",
    "</ul>\n",
    "\n"
   ]
  },
  {
   "cell_type": "markdown",
   "metadata": {
    "slideshow": {
     "slide_type": "slide"
    }
   },
   "source": [
    "<h1 align=\"left\"><font size=\"8\">A brief play with Docker and Jupyter</font></h1>\n",
    "\n",
    "<ul style=\"font-size: 30px;\">\n",
    "    <li>Github: https://github.com/JoshCole/DataScience-Stack</li>\n",
    "    <li>A quick Tour</li>\n",
    "</ul>"
   ]
  },
  {
   "cell_type": "markdown",
   "metadata": {
    "slideshow": {
     "slide_type": "slide"
    }
   },
   "source": [
    "# Questions"
   ]
  }
 ],
 "metadata": {
  "celltoolbar": "Slideshow",
  "kernelspec": {
   "display_name": "Python 3",
   "language": "python",
   "name": "python3"
  },
  "language_info": {
   "codemirror_mode": {
    "name": "ipython",
    "version": 3
   },
   "file_extension": ".py",
   "mimetype": "text/x-python",
   "name": "python",
   "nbconvert_exporter": "python",
   "pygments_lexer": "ipython3",
   "version": "3.6.1"
  }
 },
 "nbformat": 4,
 "nbformat_minor": 2
}
